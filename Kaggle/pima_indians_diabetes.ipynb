{
 "cells": [
  {
   "cell_type": "code",
   "execution_count": 3,
   "metadata": {
    "id": "KPkKSO95R7Q5"
   },
   "outputs": [],
   "source": [
    "import pandas as pd\n",
    "from sklearn import metrics\n",
    "from sklearn.ensemble import RandomForestClassifier\n",
    "from sklearn.linear_model import LogisticRegression, SGDClassifier\n",
    "from sklearn.model_selection import train_test_split, cross_val_score, cross_val_predict, StratifiedKFold\n",
    "\n",
    "import matplotlib.pyplot as plt\n",
    "\n",
    "import warnings\n",
    "warnings.filterwarnings('ignore')"
   ]
  },
  {
   "cell_type": "code",
   "execution_count": 4,
   "metadata": {
    "colab": {
     "base_uri": "https://localhost:8080/"
    },
    "id": "ihE40uTgXV50",
    "outputId": "af5b0a3a-4bdf-481b-be72-c6c1c3fc845e"
   },
   "outputs": [
    {
     "name": "stdout",
     "output_type": "stream",
     "text": [
      "/content/drive\n",
      "Mounted at /content/drive\n"
     ]
    }
   ],
   "source": [
    "# Mount Google Drive\n",
    "from google.colab import drive # import drive from google colab\n",
    "\n",
    "ROOT = \"/content/drive\"     # default location for the drive\n",
    "print(ROOT)                 # print content of ROOT (Optional)\n",
    "drive.mount(ROOT)           # we mount the google drive at /content/drive"
   ]
  },
  {
   "cell_type": "code",
   "execution_count": 5,
   "metadata": {
    "colab": {
     "base_uri": "https://localhost:8080/"
    },
    "id": "DUVwveLiXXZU",
    "outputId": "aafae375-ddc8-4c4a-dde0-143dfc2e1984"
   },
   "outputs": [
    {
     "name": "stdout",
     "output_type": "stream",
     "text": [
      "/content/drive/My Drive\n"
     ]
    }
   ],
   "source": [
    "# import join used to join ROOT path and MY_GOOGLE_DRIVE_PATH\n",
    "from os.path import join  \n",
    "\n",
    "# path to your project on Google Drive\n",
    "# MY_GOOGLE_DRIVE_PATH = 'My Drive/Class_Python/MachineLearning/data'\n",
    "MY_GOOGLE_DRIVE_PATH = 'My Drive'\n",
    "\n",
    "PROJECT_PATH = join(ROOT, MY_GOOGLE_DRIVE_PATH)\n",
    "print(PROJECT_PATH)"
   ]
  },
  {
   "cell_type": "code",
   "execution_count": 6,
   "metadata": {
    "colab": {
     "base_uri": "https://localhost:8080/"
    },
    "id": "NHGcGP0IXYjT",
    "outputId": "d8777d7a-432e-43f3-eaf3-5fd3611de29f"
   },
   "outputs": [
    {
     "name": "stdout",
     "output_type": "stream",
     "text": [
      "/content/drive/My Drive\n"
     ]
    }
   ],
   "source": [
    "%cd \"{PROJECT_PATH}\""
   ]
  },
  {
   "cell_type": "code",
   "execution_count": 7,
   "metadata": {
    "id": "Ee6uvy-mZJ1E"
   },
   "outputs": [],
   "source": [
    "diabetes_data = pd.read_csv('diabetes.csv')"
   ]
  },
  {
   "cell_type": "code",
   "execution_count": 8,
   "metadata": {
    "id": "e3JN5MqbZRqb"
   },
   "outputs": [],
   "source": [
    "X = diabetes_data.drop([\"Outcome\"],axis = 1)\n",
    "y = diabetes_data[\"Outcome\"]\n",
    "# 훈련 세트를 사용하여 다양한 하이퍼 파라미터로 여러 모델을 훈련하고 검증 세트에서 가장 잘 수행되는 모델과 하이퍼 파라미터를 선택합니다.\n",
    "# 모델 유형과 하이퍼 파라미터가 선택되면 전체 훈련 세트에서 이러한 하이퍼 파라미터를 사용하여 최종 모델을 훈련시키고 일반화 된 오류는 테스트 세트에서 최종적으로 측정됩니다.\n",
    "X_train, X_test, y_train, y_test = train_test_split(X, y, stratify = y, random_state = 56)\n",
    "\n",
    "# StratifiedKFold 클래스는 계층화 된 샘플링을 수행하여 각 클래스의 대표 비율을 포함하는 폴드를 생성합니다.\n",
    "cv = StratifiedKFold(n_splits=10, shuffle= False, random_state= 76)\n",
    "\n",
    "\n",
    "# 로지스틱 회귀\n",
    "clf_logreg = LogisticRegression()\n",
    "\n",
    "\n",
    "# 검증 세트에 대한 클래스 예측을합니다.\n",
    "y_pred_class_logreg = cross_val_predict(clf_logreg, X_train, y_train, cv = cv)\n",
    "\n",
    "\n",
    "# 클래스 1에 대한 예측 확률, 양성 클래스의 확률\n",
    "y_pred_prob_logreg = cross_val_predict(clf_logreg, X_train, y_train, cv = cv, method=\"predict_proba\")\n",
    "y_pred_prob_logreg_class1 = y_pred_prob_logreg[:, 1]\n",
    "\n",
    "\n",
    "# SGD 분류기\n",
    "clf_SGD = SGDClassifier()\n",
    "\n",
    "# 적합 모델\n",
    "clf_SGD.fit(X_train, y_train)\n",
    "\n",
    "# 검증 세트에 대한 클래스 예측을합니다.\n",
    "y_pred_class_SGD = cross_val_predict(clf_SGD, X_train, y_train, cv = cv)\n",
    "\n",
    "# 클래스 1에 대한 예측 확률\n",
    "y_pred_prob_SGD = cross_val_predict(clf_SGD, X_train, y_train, cv = cv, method=\"decision_function\")\n",
    "\n",
    "\n",
    "# 랜덤 포레스트 분류기\n",
    "clf_rfc = RandomForestClassifier()\n",
    "\n",
    "# 적합 모델\n",
    "clf_rfc.fit(X_train, y_train)\n",
    "\n",
    "# 검증 세트에 대한 클래스 예측을합니다.\n",
    "y_pred_class_rfc = cross_val_predict(clf_rfc, X_train, y_train, cv = cv)\n",
    "\n",
    "# 클래스 1에 대한 예측 확률\n",
    "y_pred_prob_rfc = cross_val_predict(clf_rfc, X_train, y_train, cv = cv, method=\"predict_proba\")\n",
    "y_pred_prob_rfc_class1 = y_pred_prob_rfc[:, 1]"
   ]
  },
  {
   "cell_type": "markdown",
   "metadata": {
    "id": "DkIlAPJ63809"
   },
   "source": [
    "- \n",
    "빠른 참고 : SkLearn의 \"predict_log_proba\"는 확률의 로그를 제공합니다. 확률이 매우 작아 질 수 있으므로 종종 더 편리합니다."
   ]
  },
  {
   "cell_type": "markdown",
   "metadata": {
    "id": "k8yekNqh4Dhs"
   },
   "source": [
    "널 정확도(null_accuracy) : \n",
    "- 항상 가장 빈번한 클래스를 예측하여 얻을 수있는 정확도.\n",
    "- 이것은 항상 0/1을 예측하는 멍청한 모델이 \"null_accuracy\"%의 시간에 맞을 것이라는 것을 의미합니다."
   ]
  },
  {
   "cell_type": "code",
   "execution_count": 9,
   "metadata": {
    "colab": {
     "base_uri": "https://localhost:8080/"
    },
    "id": "V8AZ0EFH4Sn7",
    "outputId": "9b02f2e6-1e68-4f1f-f1f2-ef1689a26abc"
   },
   "outputs": [
    {
     "data": {
      "text/plain": [
       "0.6509981851179674"
      ]
     },
     "execution_count": 9,
     "metadata": {
      "tags": []
     },
     "output_type": "execute_result"
    }
   ],
   "source": [
    "from sklearn.base import BaseEstimator\n",
    "import numpy as np\n",
    "\n",
    "class BaseClassifier(BaseEstimator):\n",
    "  def fit(self, X, y=None):\n",
    "    pass\n",
    "  def predict(self, X):\n",
    "    return np.zeros((len(X), 1), dtype=bool)\n",
    "\n",
    "base_clf = BaseClassifier()\n",
    "cross_val_score(base_clf, X_train, y_train, cv=10, scoring=\"accuracy\").mean()\n",
    "\n",
    "\n",
    "# 방법 2\n",
    "# null 정확도 계산 (바이너리 / 다중 클래스 분류 문제의 경우)\n",
    "# null_accuracy = y_train.value_counts (). head (1) / len (y_train)"
   ]
  },
  {
   "cell_type": "markdown",
   "metadata": {
    "id": "XJkFKhai7cqF"
   },
   "source": [
    "**분류 정확도**\n",
    "- 분류 정확도 또는 정확도는 총 입력 샘플 수에 대한 올바른 예측 수의 비율입니다.\n",
    "$Accuracy = \\frac{Number\\ of\\ correct\\ predictions}{Total\\ number\\ of\\ predictions\\ made} = \\frac{TP + TN}{TP + TN + FP + FN}$\n",
    "\n",
    "**정확도 측정 항목을 사용하는 경우 :**\n",
    "\n",
    "- 각 클래스에 속하는 샘플 수가 거의 동일한 경우.\n",
    "\n",
    "**정확도 측정 항목을 사용하지 않는 경우 :**\n",
    "- 하나의 클래스 만 대부분의 샘플을 보유 할 때."
   ]
  },
  {
   "cell_type": "markdown",
   "metadata": {
    "id": "af84gm6D8Brj"
   },
   "source": [
    "예 : 훈련 세트에 클래스 A의 샘플이 98 %이고 클래스 B의 샘플이 2 %라고 가정합니다. 그러면 우리 모델은 클래스 A에 속하는 모든 훈련 샘플을 간단히 예측하여 98 %의 훈련 정확도를 쉽게 얻을 수 있습니다.\n",
    "\n",
    "동일한 모델이 클래스 A의 60 % 샘플과 클래스 B의 40 % 샘플이있는 테스트 세트에서 테스트되면 테스트 정확도가 60 %로 떨어집니다. 분류 정확도는 우리에게 높은 정확도를 달성한다는 잘못된 감각을 줄 수 있습니다."
   ]
  },
  {
   "cell_type": "code",
   "execution_count": 10,
   "metadata": {
    "colab": {
     "base_uri": "https://localhost:8080/"
    },
    "id": "lZwiQU6z8EiB",
    "outputId": "58bf252e-48f1-4cc0-aba5-d76f05f87212"
   },
   "outputs": [
    {
     "data": {
      "text/plain": [
       "(0.7797035692679977, 0.5382032667876588, 0.7762855414398064)"
      ]
     },
     "execution_count": 10,
     "metadata": {
      "tags": []
     },
     "output_type": "execute_result"
    }
   ],
   "source": [
    "# 정확도 계산\n",
    "acc_logreg = cross_val_score(clf_logreg, X_train, y_train, cv = cv, scoring= 'accuracy').mean()\n",
    "acc_SGD = cross_val_score(clf_SGD, X_train, y_train, cv = cv, scoring='accuracy').mean()\n",
    "acc_rfc = cross_val_score(clf_rfc, X_train, y_train, cv= cv, scoring= 'accuracy').mean()\n",
    "\n",
    "acc_logreg,  acc_SGD, acc_rfc"
   ]
  },
  {
   "cell_type": "markdown",
   "metadata": {
    "id": "5NCK1vFY-kWr"
   },
   "source": [
    "로그 손실 / 로그 손실 / 로지스틱 손실 / 교차 엔트로피 손실\n",
    "\n",
    "- 로그 손실로 작업 할 때 분류기는 모든 샘플에 대해 각 클래스에 확률을 할당해야합니다.\n",
    "- 로그 손실은 실제 레이블과 비교하고 잘못된 분류에 페널티를 적용하여 모델 확률의 불확실성을 측정합니다.\n",
    "- 로그 손실은 둘 이상의 레이블에 대해서만 정의됩니다.\n",
    "- 로그 손실은 예측 확률이 향상됨에 따라 점차 감소하므로 로그 손실이 0에 가까울수록 정확도가 높아지고 로그 손실이 0에서 멀어지면 정확도가 낮아집니다.\n",
    "- 로그 손실은 (0, ∞] 범위에 있습니다.\n",
    "\n",
    "M 클래스에 속하는 N 개의 샘플이 있다고 가정하면 로그 손실은 다음과 같이 계산됩니다."
   ]
  },
  {
   "cell_type": "markdown",
   "metadata": {
    "id": "EClO9TiJ9klb"
   },
   "source": [
    "$Log\\ Loss = \\frac{-1}{N} \\sum_{i=1}^{N} \\sum_{i=1}^{M}  y_{ij} * \\log(\\hat{y_{ij}})$"
   ]
  },
  {
   "cell_type": "markdown",
   "metadata": {
    "id": "9A_s_BZA-4Qr"
   },
   "source": [
    "\n",
    "어디,\n",
    "\n",
    "$\\log(\\hat{y_{ij}})$는 샘플 i가 클래스 j에 속하는지 여부를 나타냅니다.\n",
    "\n",
    "$p_{ij}$는 클래스 j에 속하는 샘플 i의 확률을 나타냅니다.\n",
    "\n",
    "음수 부호는 항상 음수 인 $\\log(\\hat{y_{ij}})$ 출력을 부정합니다. $y_{ij}$ ^는 확률 (0-1)을 출력하고, log (x)는 0 <x <1이면 음수입니다.\n",
    "\n",
    "예 : 학습 레이블은 0과 1이지만 학습 예측은 0.4, 0.6, 0.89 등입니다. 모델의 오류 측정 값을 계산하기 위해 0.5보다 큰 값을 갖는 모든 관측 값을 1로 분류 할 수 있습니다. 우리는 오 분류를 증가시킬 위험이 높습니다. 확률이 0.4, 0.45, 0.49 인 많은 값이 1의 참값을 가질 수 있기 때문입니다.\n",
    "\n",
    "이것이 logLoss가 등장하는 곳입니다.\n",
    "\n",
    "이제 LogLoss의 공식을 자세히 살펴 보겠습니다. yij 및 $p_{ij}$ 값에는 4 가지 주요 사례가있을 수 있습니다.\n",
    "\n",
    "Case 1 :  $y_{ij}$ =1 ,  $p_{ij}$  = High\n",
    "\n",
    "Case 2 :  $y_{ij}$ =1 ,  $p_{ij}$  = Low\n",
    "\n",
    "Case 3 :  $y_{ij}$ =0 ,  $p_{ij}$  = Low\n",
    "\n",
    "Case 4 :  $y_{ij}$ =0 ,  $p_{ij}$  = High"
   ]
  },
  {
   "cell_type": "markdown",
   "metadata": {
    "id": "oIeGRVLBCiar"
   },
   "source": [
    "LogLoss는 불확실성을 어떻게 측정합니까?\n",
    "\n",
    "케이스 1과 케이스 3이 더 많이있는 경우 로그 로스 공식 내부의 합계 (및 평균)는 케이스 2와 케이스 4가 추가 된 경우에 비해 훨씬 더 커질 것입니다. 이제이 값은 좋은 예측을 나타내는 Case 1 및 Case 3만큼 큽니다. (-1)을 곱하면 값을 가능한 한 작게 만듭니다. 이것은 이제 직관적으로 의미합니다-값이 작을수록 모델이 더 좋습니다. 즉, 로그 손실이 더 적고, 모델이 더 좋습니다. 즉, 불확실성이 작을수록 모델이 더 좋습니다."
   ]
  },
  {
   "cell_type": "code",
   "execution_count": 11,
   "metadata": {
    "colab": {
     "base_uri": "https://localhost:8080/"
    },
    "id": "dplgOcMnCkMp",
    "outputId": "bacd3840-462b-4a9c-e364-e9449c444157"
   },
   "outputs": [
    {
     "data": {
      "text/plain": [
       "(-0.48368646454082465, -0.6355939447752668, -0.4784830149254017)"
      ]
     },
     "execution_count": 11,
     "metadata": {
      "tags": []
     },
     "output_type": "execute_result"
    }
   ],
   "source": [
    "# logloss 계산\n",
    "logloss_logreg = cross_val_score(clf_logreg, X_train, y_train, cv = cv, scoring = 'neg_log_loss').mean()\n",
    "logloss_rfc = cross_val_score(clf_rfc, X_train, y_train, cv = cv, scoring = 'neg_log_loss').mean()\n",
    "# SGDClassifier의 힌지 손실은 확률 추정을 지원하지 않습니다.\n",
    "# Scikit-learn의 CalibratedClassifierCV에서 SGDClassifier를 기본 추정기로 설정하여 확률 추정치를 생성 할 수 있습니다.\n",
    "\n",
    "from sklearn.calibration import CalibratedClassifierCV\n",
    "\n",
    "new_clf_SGD = CalibratedClassifierCV(clf_SGD)\n",
    "new_clf_SGD.fit(X_train, y_train)\n",
    "logloss_SGD = cross_val_score(new_clf_SGD, X_train, y_train, cv = cv, scoring = 'neg_log_loss').mean()\n",
    "\n",
    "logloss_logreg, logloss_SGD, logloss_rfc"
   ]
  },
  {
   "cell_type": "markdown",
   "metadata": {
    "id": "KxlnKvEnx5u8"
   },
   "source": [
    "**ROC 곡선**\n",
    "\n",
    "ROC는 민감도와 특이 도로 나눌 수 있습니다. 최상의 모델을 선택하는 것은 1을 정확하게 예측하거나 0을 정확하게 예측하는 것 사이의 일종의 균형입니다. 즉, 감도와 특이성.\n",
    "\n",
    "- True Positive Rate (감도 / 리콜) : True Positive Rate는 TP / (FN + TP)로 정의됩니다. 참 양성률은 모든 긍정적 인 데이터 요소와 관련하여 올바르게 긍정적 인 것으로 간주되는 긍정적 인 데이터 요소의 비율에 해당합니다.\n",
    "\n",
    "- False Positive Rate (Specificity) : False Positive Rate는 FP / (FP + TN)로 정의됩니다. False Positive Rate는 모든 부정적인 데이터 포인트와 관련하여 실수로 긍정으로 간주되는 부정적인 데이터 포인트의 비율에 해당합니다.\n",
    "\n",
    "참 양성률과 거짓 양성률은 모두 [0, 1] 범위의 값을 갖습니다. TPR과 FPR은 모두 (0.00, 0.02, 0.04,…., 1.00)과 같은 임계 값에서 계산되고 그래프가 그려집니다."
   ]
  },
  {
   "cell_type": "code",
   "execution_count": 12,
   "metadata": {
    "colab": {
     "base_uri": "https://localhost:8080/",
     "height": 296
    },
    "id": "oNym6H18yEu1",
    "outputId": "84eef27e-022d-4b68-b293-837082135d9c"
   },
   "outputs": [
    {
     "data": {
      "image/png": "[encoded data removed]",
      "text/plain": [
       "<Figure size 432x288 with 1 Axes>"
      ]
     },
     "metadata": {
      "needs_background": "light",
      "tags": []
     },
     "output_type": "display_data"
    }
   ],
   "source": [
    "# 중요 : 첫 번째 인수는 참 값이고 두 번째 인수는 예측 확률입니다.\n",
    "\n",
    "# y_test와 y_pred_prob를 통과합니다.\n",
    "# y_pred_class를 사용하지 않습니다. 오류를 생성하지 않고 잘못된 결과를 제공하기 때문입니다.\n",
    "# roc_curve는 3 개의 객체를 반환합니다. \n",
    "\n",
    "fpr_logreg, tpr_logreg, thresholds_logreg = metrics.roc_curve(y_train, y_pred_prob_logreg_class1)\n",
    "fpr_rfc, tpr_rfc, thresholds_rfc = metrics.roc_curve(y_train, y_pred_prob_rfc_class1)\n",
    "fpr_SGD, tpr_SGD, thresholds_SGD = metrics.roc_curve(y_train, y_pred_prob_SGD)\n",
    "\n",
    "plt.plot(fpr_logreg, tpr_logreg, label=\"logreg\")\n",
    "plt.plot(fpr_rfc, tpr_rfc, label=\"rfc\")\n",
    "plt.plot(fpr_SGD, tpr_SGD, label=\"SGD\")\n",
    "plt.xlim([0.0, 1.0])\n",
    "plt.ylim([0.0, 1.0])\n",
    "plt.rcParams['font.size'] = 12\n",
    "plt.title('ROC curve')\n",
    "plt.xlabel('False Positive Rate (1 - Specificity)')\n",
    "plt.ylabel('True Positive Rate (Sensitivity)')\n",
    "plt.legend(loc=\"lower right\", fontsize=10)\n",
    "plt.grid(True)"
   ]
  },
  {
   "cell_type": "markdown",
   "metadata": {
    "id": "Sv1Yx0u7yYST"
   },
   "source": [
    "ROC 플롯 해석 :\n",
    "ROC 플롯을 해석하는 것은 일반 라인 플롯과 매우 다릅니다. X와 Y 축이 있지만 X 값이 0.25 인 경우 Y 값은 .9로 읽지 않기 때문입니다.\n",
    "\n",
    "대신 여기에있는 것은 왼쪽 하단의 1에서 오른쪽 상단의 0까지 확률 컷오프를 추적하는 선입니다.\n",
    "\n",
    "이것은 0에서 1까지의 전체 범위의 확률 컷오프에 대해 민감도와 특이도가 어떻게 수행되는지 분석하는 방법입니다.\n",
    "\n",
    "이상적으로는 완벽한 모델이있는 경우 모든 이벤트의 확률 점수는 1이고 모든 비 이벤트의 점수는 0입니다. 이러한 모델의 경우 ROC 아래 영역은 완벽한 1이됩니다.\n",
    "\n",
    "따라서 왼쪽 아래에서 곡선을 따라 가면 확률 컷오프의 값이 1에서 0으로 감소합니다. 좋은 모델이 있으면 실제 이벤트의 대부분을 이벤트로 예측해야하므로 민감도가 높고 FPR이 낮아집니다. 이 경우 곡선은 오른쪽 상단에 도달하기 전에 넓은 영역을 포함하여 가파르게 상승합니다.\n",
    "\n",
    "따라서 ROC 곡선 아래 영역이 클수록 모델이 더 좋습니다.\n",
    "\n",
    "ROC 곡선은 예측 확률 컷오프의 다양한 값에 대해 모델이 얼마나 잘 수행하는지 측정하는 유일한 측정 항목입니다."
   ]
  },
  {
   "cell_type": "code",
   "execution_count": 13,
   "metadata": {
    "id": "EYhL-LPLya9l"
   },
   "outputs": [],
   "source": [
    "# 임계 값을 받아들이고 민감도와 특이성을 인쇄하는 함수를 정의합니다.\n",
    "def evaluate_threshold(tpr, fpr,clf_threshold, threshold):\n",
    "    print('Sensitivity:', tpr[clf_threshold > threshold][-1])\n",
    "    print('Specificity:', 1 - fpr[clf_threshold > threshold][-1])"
   ]
  },
  {
   "cell_type": "code",
   "execution_count": 14,
   "metadata": {
    "colab": {
     "base_uri": "https://localhost:8080/"
    },
    "id": "fLpmih6oyis0",
    "outputId": "1c02164a-c498-4352-fa4c-d0b995b9a57d"
   },
   "outputs": [
    {
     "name": "stdout",
     "output_type": "stream",
     "text": [
      "Sensitivity: 0.8855721393034826\n",
      "Specificity: 0.5706666666666667\n",
      "Sensitivity: 0.24875621890547264\n",
      "Specificity: 0.9733333333333334\n"
     ]
    },
    {
     "data": {
      "text/plain": [
       "(None, None)"
      ]
     },
     "execution_count": 14,
     "metadata": {
      "tags": []
     },
     "output_type": "execute_result"
    }
   ],
   "source": [
    "# 로지스틱 회귀\n",
    "evaluate_threshold(tpr_logreg, fpr_logreg, thresholds_logreg, 0.2), evaluate_threshold(tpr_logreg, fpr_logreg, thresholds_logreg, 0.8)"
   ]
  },
  {
   "cell_type": "code",
   "execution_count": 15,
   "metadata": {
    "colab": {
     "base_uri": "https://localhost:8080/"
    },
    "id": "J3frJBaZy_RE",
    "outputId": "0ff3f43d-8c19-4a20-ba90-6e0e4ac0a040"
   },
   "outputs": [
    {
     "name": "stdout",
     "output_type": "stream",
     "text": [
      "Sensitivity: 0.8955223880597015\n",
      "Specificity: 0.5333333333333333\n",
      "Sensitivity: 0.14427860696517414\n",
      "Specificity: 0.984\n"
     ]
    },
    {
     "data": {
      "text/plain": [
       "(None, None)"
      ]
     },
     "execution_count": 15,
     "metadata": {
      "tags": []
     },
     "output_type": "execute_result"
    }
   ],
   "source": [
    "# 랜덤 포레스트 분류기\n",
    "evaluate_threshold(tpr_rfc, fpr_rfc, thresholds_rfc, 0.2), evaluate_threshold(tpr_rfc, fpr_rfc, thresholds_rfc, 0.8)"
   ]
  },
  {
   "cell_type": "code",
   "execution_count": 16,
   "metadata": {
    "colab": {
     "base_uri": "https://localhost:8080/"
    },
    "id": "qoWvoOv8zFbb",
    "outputId": "ad1b2a76-320a-4844-ad73-8b6b9aa771f3"
   },
   "outputs": [
    {
     "name": "stdout",
     "output_type": "stream",
     "text": [
      "Sensitivity: 0.47761194029850745\n",
      "Specificity: 0.64\n",
      "Sensitivity: 0.47761194029850745\n",
      "Specificity: 0.64\n"
     ]
    },
    {
     "data": {
      "text/plain": [
       "(None, None)"
      ]
     },
     "execution_count": 16,
     "metadata": {
      "tags": []
     },
     "output_type": "execute_result"
    }
   ],
   "source": [
    "# SGD\n",
    "evaluate_threshold(tpr_SGD, fpr_SGD, thresholds_SGD, 0.2), evaluate_threshold(tpr_SGD, fpr_SGD, thresholds_SGD, 0.8)"
   ]
  },
  {
   "cell_type": "markdown",
   "metadata": {
    "id": "Nq02aaun1nyF"
   },
   "source": [
    "AUC\n",
    "- ROC-AUC 점수의 확률 론적 해석은 양성 사례와 음성 사례를 무작위로 선택하면 분류 자에 따라 양성 사례가 음성 사례보다 순위가 높을 확률이 AUC에 의해 제공된다는 것입니다. 여기서 순위는 예측값의 순서에 따라 결정됩니다.\n",
    "- ROC-AUC 점수는 절대 값이 아닌 각 예측의 순위 만 고려하므로 분류를 위해 설정된 임계 값과 독립적입니다. 확률 출력의 경우 임계 값이 필요한 F1 점수의 경우에도 마찬가지입니다.\n",
    "- AUC는 곡선 아래에있는 ROC 플롯의 백분율입니다.\n",
    "- AUC는 양성 및 음성 클래스를 구별하는 모델의 능력을 나타냅니다. 1.0 영역은 모든 예측을 완벽하게 수행 한 모델을 나타냅니다. 0.5의 영역은 무작위로 좋은 모델을 나타냅니다.\n",
    "- AUC는 높은 등급의 불균형이있는 경우에도 유용합니다 (분류 정확도와 달리).\n",
    "- 사기 사건\n",
    " - 거의 99 %의 Null 정확도\n",
    " - AUC는 여기에 유용합니다.\n",
    "\n",
    "일반 AUC 예측 :\n",
    "\n",
    "- 90-1 = 우수\n",
    "- 80-.90 = 좋음\n",
    "- 70-.80 = 보통\n",
    "- 60-.70 = 나쁨\n",
    "- 50-.60 = 실패\n",
    "\n",
    "AUC ROC는 모델의 성능을 결정하기 위해 예측 된 확률을 고려합니다. 그러나 확률의 순서 만 고려하므로 양수일 가능성이 더 높은 샘플 (로그 손실)에 대해 더 높은 확률을 예측하는 모델의 기능은 고려하지 않습니다.\n",
    "\n",
    "AUC는 다양한 결정 임계 값이있는 이진 분류와 관련하여 계산되는 반면, 로그 손실은 실제로 분류의 \"확실성\"을 고려합니다."
   ]
  },
  {
   "cell_type": "code",
   "execution_count": 17,
   "metadata": {
    "id": "oD8FrUUZ1_9r"
   },
   "outputs": [],
   "source": [
    "# 중요 : 첫 번째 인수는 참 값이고 두 번째 인수는 예측 확률입니다.\n",
    "# print (metrics.roc_auc_score (y_test, y_pred_prob))"
   ]
  },
  {
   "cell_type": "code",
   "execution_count": 18,
   "metadata": {
    "colab": {
     "base_uri": "https://localhost:8080/"
    },
    "id": "4Og_FiZS2LT6",
    "outputId": "eab2a1ea-81a0-4ab2-de0a-939877c47397"
   },
   "outputs": [
    {
     "data": {
      "text/plain": [
       "(0.8355808440018967, 0.5851354738196843, 0.8370852807694913)"
      ]
     },
     "execution_count": 18,
     "metadata": {
      "tags": []
     },
     "output_type": "execute_result"
    }
   ],
   "source": [
    "roc_auc_logreg = cross_val_score(clf_logreg, X_train, y_train, cv = cv, scoring = 'roc_auc').mean()\n",
    "roc_auc_SGD = cross_val_score(clf_SGD, X_train, y_train, cv = cv, scoring = 'roc_auc').mean()\n",
    "roc_auc_rfc = cross_val_score(clf_rfc, X_train, y_train, cv = cv, scoring = 'roc_auc').mean()\n",
    "\n",
    "roc_auc_logreg, roc_auc_SGD, roc_auc_rfc"
   ]
  },
  {
   "cell_type": "markdown",
   "metadata": {
    "id": "p-1hN_kg2TGy"
   },
   "source": [
    "**혼동 매트릭스**\n",
    "\n",
    "혼동 행렬은 N X N 행렬입니다. 여기서 N은 예측되는 클래스의 수입니다. Confusion Matrix는 행렬을 출력으로 제공하고 모델의 전체 성능을 설명합니다.\n",
    "\n",
    "올바른 예측은 행렬의 대각선에 있습니다.\n",
    "\n",
    "혼동 행렬의 4 가지 중요한 용어 :\n",
    "\n",
    "- True Positives : 우리가 YES를 예측하고 실제 결과도 YES 인 경우.\n",
    "- True Negatives : NO를 예측하고 실제 결과가 NO 인 경우.\n",
    "- False Positives : YES를 예측하고 실제 결과가 NO 인 경우.\n",
    "- False Negatives : 아니오를 예측하고 실제 결과가 YES 인 경우.\n",
    "\n",
    "혼동 매트릭스 자체는 성능 측정이 아니지만 거의 모든 성능 지표는 혼동 매트릭스와 그 안에있는 숫자를 기반으로합니다."
   ]
  },
  {
   "cell_type": "code",
   "execution_count": 19,
   "metadata": {
    "colab": {
     "base_uri": "https://localhost:8080/"
    },
    "id": "-x9f8v-b2doM",
    "outputId": "66804df3-92f9-4985-9de7-2d496d0d420c"
   },
   "outputs": [
    {
     "name": "stdout",
     "output_type": "stream",
     "text": [
      "[[331  44]\n",
      " [ 83 118]]\n"
     ]
    }
   ],
   "source": [
    "logreg_matrix = metrics.confusion_matrix(y_train, y_pred_class_logreg)\n",
    "print(logreg_matrix)"
   ]
  },
  {
   "cell_type": "code",
   "execution_count": 20,
   "metadata": {
    "colab": {
     "base_uri": "https://localhost:8080/"
    },
    "id": "MCgv-P4E2glj",
    "outputId": "8a46329e-40f2-4df1-9ac8-61ec2e4b1ad0"
   },
   "outputs": [
    {
     "name": "stdout",
     "output_type": "stream",
     "text": [
      "[[308  67]\n",
      " [150  51]]\n"
     ]
    }
   ],
   "source": [
    "SGD_matrix = metrics.confusion_matrix(y_train, y_pred_class_SGD)\n",
    "print(SGD_matrix)"
   ]
  },
  {
   "cell_type": "code",
   "execution_count": 21,
   "metadata": {
    "colab": {
     "base_uri": "https://localhost:8080/"
    },
    "id": "IWkNd3SH2k3r",
    "outputId": "b7f8438d-29ff-4609-f9f3-662e0fe5a412"
   },
   "outputs": [
    {
     "name": "stdout",
     "output_type": "stream",
     "text": [
      "[[320  55]\n",
      " [ 73 128]]\n"
     ]
    }
   ],
   "source": [
    "rfc_matrix = metrics.confusion_matrix(y_train, y_pred_class_rfc)\n",
    "print(rfc_matrix)"
   ]
  },
  {
   "cell_type": "markdown",
   "metadata": {
    "id": "3byOTf0N2mzD"
   },
   "source": [
    "**분류 보고서**\n",
    "\n",
    "classification_report () 함수는 각 클래스에 대한 정밀도, 재현율, f1 점수 및 지원을 표시합니다.\n",
    "\n",
    "**정도**\n",
    "\n",
    "분류자가 예측 한 긍정적 결과의 수로 나눈 참 양성 수입니다.\n",
    "\n",
    "$Precision =  \\frac{True\\ Positives}{True\\ Positives + False\\ Positives}$\n",
    "\n",
    "\n",
    "**리콜 / 감도**\n",
    "\n",
    "참 양성 수를 모든 관련 샘플 (양성으로 식별되어야하는 모든 샘플)의 수로 나눈 값입니다.\n",
    "\n",
    "$Recall =  \\frac{True\\ Positives}{True\\ Positives + False\\ Negatives}$\n",
    "\n",
    "\n",
    "- False Negatives를 최소화하려면 Recall이 100 %에 가깝도록해야합니다.\n",
    "- 오탐을 최소화하려면 정밀도가 100 %에 가까워 야합니다.\n",
    "\n",
    "**특이성 / TNR (참 음성 비율)**\n",
    "\n",
    "올바르게 식별 된 실제 음성 사례의 비율입니다.\n",
    "특이성은 Recall과 정반대입니다.\n",
    "$Specificity =  \\frac{True\\ Negatives}{True\\ Negatives + False\\ Positives}$\n",
    "\n",
    "**F1 점수**\n",
    "\n",
    "- F1 점수는 정밀도와 재현율 사이의 조화 평균입니다.\n",
    "\n",
    "- 분류 기가 얼마나 정확한지 (올바르게 분류하는 인스턴스 수)와 견고 함 (많은 인스턴스를 놓치지 않음)을 알려줍니다.\n",
    "\n",
    "- F1 점수가 높을수록 모델의 성능이 더 좋습니다.\n",
    "- 범위 [0, 1].\n",
    "\n",
    "$F1 = 2 * \\frac{1}{\\frac{1}{precision} + \\frac{1}{recall}}$"
   ]
  }
 ],
 "metadata": {
  "colab": {
   "collapsed_sections": [],
   "name": "pima-indians-diabetes.ipynb",
   "provenance": []
  },
  "kernelspec": {
   "display_name": "Python 3",
   "language": "python",
   "name": "python3"
  },
  "language_info": {
   "codemirror_mode": {
    "name": "ipython",
    "version": 3
   },
   "file_extension": ".py",
   "mimetype": "text/x-python",
   "name": "python",
   "nbconvert_exporter": "python",
   "pygments_lexer": "ipython3",
   "version": "3.8.3"
  }
 },
 "nbformat": 4,
 "nbformat_minor": 4
}
